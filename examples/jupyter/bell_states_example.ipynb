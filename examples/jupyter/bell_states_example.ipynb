{
 "cells": [
  {
   "cell_type": "markdown",
   "metadata": {},
   "source": [
    "This notebook shows that you can execute multiple circuits together with the execute command and QuaC backends. Two identical circuits are run and their results plotted."
   ]
  },
  {
   "cell_type": "code",
   "execution_count": 14,
   "metadata": {},
   "outputs": [],
   "source": [
    "import math\n",
    "import matplotlib.pyplot as plt\n",
    "from qiskit import QuantumCircuit, execute\n",
    "from qiskit.visualization import plot_histogram\n",
    "from qiskit.providers.quac import Quac"
   ]
  },
  {
   "cell_type": "code",
   "execution_count": 15,
   "metadata": {},
   "outputs": [
    {
     "data": {
      "text/html": [
       "<pre style=\"word-wrap: normal;white-space: pre;background: #fff0;line-height: 1.1;font-family: &quot;Courier New&quot;,Courier,monospace\">     ┌──────────┐     \n",
       "q_0: ┤ U2(0,pi) ├──■──\n",
       "     └──────────┘┌─┴─┐\n",
       "q_1: ────────────┤ X ├\n",
       "                 └───┘\n",
       "c_0: ═════════════════\n",
       "                      \n",
       "c_1: ═════════════════\n",
       "                      </pre>"
      ],
      "text/plain": [
       "     ┌──────────┐     \n",
       "q_0: ┤ U2(0,pi) ├──■──\n",
       "     └──────────┘┌─┴─┐\n",
       "q_1: ────────────┤ X ├\n",
       "                 └───┘\n",
       "c_0: ═════════════════\n",
       "                      \n",
       "c_1: ═════════════════\n",
       "                      "
      ]
     },
     "execution_count": 15,
     "metadata": {},
     "output_type": "execute_result"
    }
   ],
   "source": [
    "circuit = QuantumCircuit(2, 2)\n",
    "circuit.u2(0, math.pi, 0)\n",
    "circuit.cx(0, 1)\n",
    "\n",
    "circuit2 = QuantumCircuit(2, 2)\n",
    "circuit2.h(0)\n",
    "circuit2.cx(0, 1)\n",
    "\n",
    "circuit.draw()"
   ]
  },
  {
   "cell_type": "code",
   "execution_count": 16,
   "metadata": {},
   "outputs": [
    {
     "data": {
      "text/html": [
       "<pre style=\"word-wrap: normal;white-space: pre;background: #fff0;line-height: 1.1;font-family: &quot;Courier New&quot;,Courier,monospace\">     ┌───┐     \n",
       "q_0: ┤ H ├──■──\n",
       "     └───┘┌─┴─┐\n",
       "q_1: ─────┤ X ├\n",
       "          └───┘\n",
       "c_0: ══════════\n",
       "               \n",
       "c_1: ══════════\n",
       "               </pre>"
      ],
      "text/plain": [
       "     ┌───┐     \n",
       "q_0: ┤ H ├──■──\n",
       "     └───┘┌─┴─┐\n",
       "q_1: ─────┤ X ├\n",
       "          └───┘\n",
       "c_0: ══════════\n",
       "               \n",
       "c_1: ══════════\n",
       "               "
      ]
     },
     "execution_count": 16,
     "metadata": {},
     "output_type": "execute_result"
    }
   ],
   "source": [
    "circuit2.draw()"
   ]
  },
  {
   "cell_type": "code",
   "execution_count": 17,
   "metadata": {},
   "outputs": [],
   "source": [
    "# Define Lindblad emission and dephasing terms\n",
    "lindblad = {\n",
    "    \"0\": {\n",
    "        \"T1\": 1000,\n",
    "        \"T2\": 50000\n",
    "    },\n",
    "    \"1\": {\n",
    "        \"T1\": 1000,\n",
    "        \"T2\": 50000\n",
    "    }\n",
    "}"
   ]
  },
  {
   "cell_type": "code",
   "execution_count": 18,
   "metadata": {},
   "outputs": [
    {
     "name": "stdout",
     "output_type": "stream",
     "text": [
      "Available QuaC backends:\n",
      "[<QuacCountsSimulator('generic_counts_simulator') from QuacProvider()>, <QuacDensitySimulator('fake_armonk_density_simulator') from QuacProvider()>, <QuacCountsSimulator('fake_armonk_counts_simulator') from QuacProvider()>, <QuacDensitySimulator('fake_yorktown_density_simulator') from QuacProvider()>]\n",
      "... and many more!\n"
     ]
    }
   ],
   "source": [
    "print(\"Available QuaC backends:\")\n",
    "backends = Quac.backends()\n",
    "print(backends[1:5])\n",
    "print(\"... and many more!\")\n",
    "simulator = Quac.get_backend('generic_counts_simulator')"
   ]
  },
  {
   "cell_type": "code",
   "execution_count": 19,
   "metadata": {},
   "outputs": [
    {
     "data": {
      "image/png": "[encoded data removed]",
      "text/plain": [
       "<Figure size 504x360 with 1 Axes>"
      ]
     },
     "execution_count": 19,
     "metadata": {},
     "output_type": "execute_result"
    }
   ],
   "source": [
    "# Execute the circuit on the QuaC simulator\n",
    "job = execute([circuit, circuit2], simulator, shots=1000, lindblad=lindblad)\n",
    "plot_histogram(job.result().get_counts(), title=\"Bell States Example\")"
   ]
  },
  {
   "cell_type": "code",
   "execution_count": null,
   "metadata": {},
   "outputs": [],
   "source": []
  }
 ],
 "metadata": {
  "kernelspec": {
   "display_name": "Python 3",
   "language": "python",
   "name": "python3"
  },
  "language_info": {
   "codemirror_mode": {
    "name": "ipython",
    "version": 3
   },
   "file_extension": ".py",
   "mimetype": "text/x-python",
   "name": "python",
   "nbconvert_exporter": "python",
   "pygments_lexer": "ipython3",
   "version": "3.7.7"
  }
 },
 "nbformat": 4,
 "nbformat_minor": 4
}
