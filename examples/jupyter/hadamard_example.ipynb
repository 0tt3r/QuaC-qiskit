{
 "cells": [
  {
   "cell_type": "markdown",
   "metadata": {},
   "source": [
    "The most simple example of using QuaC backends to run experiments."
   ]
  },
  {
   "cell_type": "code",
   "execution_count": 1,
   "metadata": {},
   "outputs": [],
   "source": [
    "import math\n",
    "from qiskit import QuantumCircuit, execute\n",
    "from qiskit.providers.quac import Quac"
   ]
  },
  {
   "cell_type": "code",
   "execution_count": 2,
   "metadata": {},
   "outputs": [
    {
     "data": {
      "text/plain": [
       "<qiskit.circuit.instructionset.InstructionSet at 0x131eb1110>"
      ]
     },
     "execution_count": 2,
     "metadata": {},
     "output_type": "execute_result"
    }
   ],
   "source": [
    "circuit1 = QuantumCircuit(1, 1)\n",
    "circuit2 = QuantumCircuit(1, 1)\n",
    "circuit3 = QuantumCircuit(1, 1)\n",
    "\n",
    "circuit1.h(0)\n",
    "circuit2.u2(0, math.pi, 0)\n",
    "circuit3.u3(math.pi/2, 0, math.pi, 0)"
   ]
  },
  {
   "cell_type": "code",
   "execution_count": 3,
   "metadata": {},
   "outputs": [],
   "source": [
    "simulator = Quac.get_backend('fake_vigo_counts_simulator')"
   ]
  },
  {
   "cell_type": "code",
   "execution_count": 4,
   "metadata": {},
   "outputs": [
    {
     "name": "stdout",
     "output_type": "stream",
     "text": [
      "Hadamard counts: {'0': 495, '1': 505}\n",
      "U2 counts: {'0': 484, '1': 516}\n",
      "U3 counts: {'0': 494, '1': 506}\n"
     ]
    }
   ],
   "source": [
    "# Execute the circuit on the QuaC simulator\n",
    "job1 = execute(circuit1, simulator, shots=1000)\n",
    "job2 = execute(circuit2, simulator, shots=1000)\n",
    "job3 = execute(circuit3, simulator, shots=1000)\n",
    "\n",
    "print(f\"Hadamard counts: {job1.result().get_counts()}\")\n",
    "print(f\"U2 counts: {job2.result().get_counts()}\")\n",
    "print(f\"U3 counts: {job3.result().get_counts()}\")"
   ]
  },
  {
   "cell_type": "code",
   "execution_count": null,
   "metadata": {},
   "outputs": [],
   "source": []
  }
 ],
 "metadata": {
  "kernelspec": {
   "display_name": "Python 3",
   "language": "python",
   "name": "python3"
  },
  "language_info": {
   "codemirror_mode": {
    "name": "ipython",
    "version": 3
   },
   "file_extension": ".py",
   "mimetype": "text/x-python",
   "name": "python",
   "nbconvert_exporter": "python",
   "pygments_lexer": "ipython3",
   "version": "3.7.7"
  }
 },
 "nbformat": 4,
 "nbformat_minor": 4
}
